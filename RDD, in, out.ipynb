{
 "cells": [
  {
   "cell_type": "code",
   "execution_count": 1,
   "metadata": {
    "collapsed": false
   },
   "outputs": [],
   "source": [
    "import re\n",
    "from operator import add\n",
    "import findspark \n",
    "findspark.init('C:\\MyProgz\\spark-2.2.0-bin-hadoop2.7')\n",
    "import pyspark\n",
    "sc = pyspark.SparkContext(appName=\"Learn RDD\")"
   ]
  },
  {
   "cell_type": "code",
   "execution_count": 2,
   "metadata": {
    "collapsed": false
   },
   "outputs": [
    {
     "name": "stdout",
     "output_type": "stream",
     "text": [
      "number of lines in file: 204\n",
      "length of first 5 lines: [16, 11, 561, 1, 1]\n",
      "length of first 5 sampled lines: [101, 96, 84, 44, 2]\n",
      "number of chars in file: 8713\n",
      "total number of words with length > 5: 469\n"
     ]
    }
   ],
   "source": [
    "f_in = sc.textFile('file:///Users/Tran/git/_learning/learning_spark/data/report.txt')\n",
    "f_in.cache()\n",
    "print('number of lines in file: %s' % f_in.count())\n",
    "chars = f_in.map(lambda s: len(s)).take(5)\n",
    "print('length of first 5 lines: %s' % chars)\n",
    "charSamples = f_in.map(lambda s: len(s)).takeSample(True, 5)\n",
    "print('length of first 5 sampled lines: %s' % charSamples)\n",
    "totalChars = f_in.map(lambda s: len(s)).reduce(lambda a, b: a + b)\n",
    "print('number of chars in file: %s' % totalChars)\n",
    "words = f_in.flatMap(lambda s: re.split(' ', s.lower().strip())).filter(lambda w: len(w) > 5)\n",
    "print('total number of words with length > 5: %s' % words.count())"
   ]
  },
  {
   "cell_type": "code",
   "execution_count": 3,
   "metadata": {
    "collapsed": false
   },
   "outputs": [
    {
     "name": "stdout",
     "output_type": "stream",
     "text": [
      "Words with count > 4: [(u'review', 5), (u'business', 6), (u'select', 5), (u'tables', 5), (u'voldemort', 9), (u'discuss', 6), (u'performance', 5), (u'queries', 6), (u'computer', 5), (u'optimize', 8), (u'script', 7)]\n",
      "Words sorted by counts: [(9, u'voldemort'), (8, u'optimize'), (7, u'script'), (6, u'business'), (6, u'discuss'), (6, u'queries'), (5, u'review'), (5, u'select'), (5, u'tables'), (5, u'performance'), (5, u'computer'), (4, u'implement'), (4, u'applicable,'), (4, u'compute'), (4, u'different'), (4, u'problems'), (4, u'before'), (4, u'number'), (4, u'b.business_id'), (4, u'strategies')] \n"
     ]
    }
   ],
   "source": [
    "wordCount = words.map(lambda w: (w, 1)).reduceByKey(add)\n",
    "print('Words with count > 4: %s' % wordCount.filter(lambda (w, c): c > 4).collect())\n",
    "countWord = wordCount.map(lambda x: (x[1],x[0])).sortByKey(False).cache()\n",
    "print('Words sorted by counts: %s ' % countWord.take(20))"
   ]
  },
  {
   "cell_type": "code",
   "execution_count": 4,
   "metadata": {
    "collapsed": false
   },
   "outputs": [
    {
     "data": {
      "image/png": "[encoded data removed]",
      "text/plain": [
       "<matplotlib.figure.Figure at 0x652d438>"
      ]
     },
     "metadata": {},
     "output_type": "display_data"
    }
   ],
   "source": [
    "import matplotlib.pyplot as plt\n",
    "% matplotlib inline\n",
    "def histogram(words):\n",
    "    count = map(lambda x: x[0], words)\n",
    "    word = map(lambda x: x[1], words)\n",
    "    plt.barh(range(len(count)), count, color='red')\n",
    "    plt.yticks(range(len(count)), word)\n",
    "histogram(countWord.take(20))"
   ]
  },
  {
   "cell_type": "code",
   "execution_count": 5,
   "metadata": {
    "collapsed": true
   },
   "outputs": [],
   "source": [
    "countWord.saveAsTextFile('file:///Users/Tran/git/_learning/learning_spark/data/out/report_out_txt')\n",
    "countWord.saveAsSequenceFile('file:///Users/Tran/git/_learning/learning_spark/data/out/report_out_seq')"
   ]
  },
  {
   "cell_type": "code",
   "execution_count": 6,
   "metadata": {
    "collapsed": false
   },
   "outputs": [],
   "source": [
    "import csv, StringIO\n",
    "\n",
    "def loadRecords(line):\n",
    "    input = StringIO.StringIO(line)\n",
    "    reader = csv.DictReader(input, fieldnames=[\"dispatching_base_number\", \"date\", \"active_vehicles\", \"trips\"])\n",
    "    return reader.next()\n",
    "\n",
    "def writeRecords(records):\n",
    "    output = StringIO.StringIO()\n",
    "    writer = csv.DictWriter(output, fieldnames=[\"dispatching_base_number\", \"date\", \"active_vehicles\", \"trips\"])\n",
    "    for record in records:\n",
    "        writer.writerow(record)\n",
    "    return [output.getvalue()]\n",
    "\n",
    "f_in = sc.textFile('file:///Users/Tran/git/_learning/learning_spark/data/uber.csv')\n",
    "records  = f_in.map(loadRecords)\n",
    "records.mapPartitions(writeRecords).saveAsTextFile('file:///Users/Tran/git/_learning/learning_spark/data/out/uber_out_txt.csv')\n"
   ]
  },
  {
   "cell_type": "code",
   "execution_count": null,
   "metadata": {
    "collapsed": true
   },
   "outputs": [],
   "source": [
    "print('DONE!')"
   ]
  }
 ],
 "metadata": {
  "anaconda-cloud": {},
  "kernelspec": {
   "display_name": "Python [default]",
   "language": "python",
   "name": "python2"
  },
  "language_info": {
   "codemirror_mode": {
    "name": "ipython",
    "version": 2
   },
   "file_extension": ".py",
   "mimetype": "text/x-python",
   "name": "python",
   "nbconvert_exporter": "python",
   "pygments_lexer": "ipython2",
   "version": "2.7.12"
  }
 },
 "nbformat": 4,
 "nbformat_minor": 1
}
