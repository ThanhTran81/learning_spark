{
 "cells": [
  {
   "cell_type": "code",
   "execution_count": 1,
   "metadata": {
    "collapsed": false
   },
   "outputs": [
    {
     "name": "stdout",
     "output_type": "stream",
     "text": [
      "<SparkContext master=local[*] appName=Learn SQL>\n"
     ]
    }
   ],
   "source": [
    "import findspark \n",
    "findspark.init('C:\\MyProgz\\spark-2.2.0-bin-hadoop2.7')\n",
    "import pyspark\n",
    "sc = pyspark.SparkContext(appName=\"Learn SQL\")\n",
    "print(sc)"
   ]
  },
  {
   "cell_type": "code",
   "execution_count": 3,
   "metadata": {
    "collapsed": false
   },
   "outputs": [
    {
     "name": "stdout",
     "output_type": "stream",
     "text": [
      "+--------------------+------------+--------------------+------+---+---------+-------+-----+-------------+\n|         marker_type|marker_index|            filename|userid| id|marker_id|setting|notes|    timestamp|\n+--------------------+------------+--------------------+------+---+---------+-------+-----+-------------+\n|start_Patient But...|           0|Sub111_TestCSV020...|   111|  1|        0|   null| null|1.486446378E9|\n|end_Patient Butto...|           0|Sub111_TestCSV020...|   111|  2|        0|   null| null|1.486446378E9|\n|start_Patient But...|           0|Sub111_TestCSV020...|   111|  3|        1|   null| null|1.486446473E9|\n|end_Patient Butto...|           0|Sub111_TestCSV020...|   111|  4|        1|   null| null|1.486446473E9|\n|     start_RERA_data|           0|Sub111_TestCSV020...|   111|  5|        2|   null| null|1.486448052E9|\n|       end_RERA_data|           0|Sub111_TestCSV020...|   111|  6|        2|   null| null|1.486448077E9|\n|     start_RERA_data|           0|Sub111_TestCSV020...|   111|  7|        3|   null| null|1.486448179E9|\n|       end_RERA_data|           0|Sub111_TestCSV020...|   111|  8|        3|   null| null|1.486448196E9|\n|     start_RERA_data|           0|Sub111_TestCSV020...|   111|  9|        4|   null| null|1.486448248E9|\n|       end_RERA_data|           0|Sub111_TestCSV020...|   111| 10|        4|   null| null|1.486448266E9|\n|     start_RERA_data|           0|Sub111_TestCSV020...|   111| 11|        5|   null| null|1.486448289E9|\n|       end_RERA_data|           0|Sub111_TestCSV020...|   111| 12|        5|   null| null| 1.48644831E9|\n|start_Obstructive...|           0|Sub111_TestCSV020...|   111| 13|        6|   null| null|1.486448331E9|\n|end_Obstructive A...|           0|Sub111_TestCSV020...|   111| 14|        6|   null| null|1.486448342E9|\n| start_Hypopnea_data|           0|Sub111_TestCSV020...|   111| 15|        7|   null| null|1.486448356E9|\n|   end_Hypopnea_data|           0|Sub111_TestCSV020...|   111| 16|        7|   null| null|1.486448379E9|\n|start_Relative De...|           0|Sub111_TestCSV020...|   111| 17|        8|   null| null|1.486448342E9|\n|end_Relative Desa...|           0|Sub111_TestCSV020...|   111| 18|        8|   null| null|1.486448365E9|\n|start_Obstructive...|           0|Sub111_TestCSV020...|   111| 19|        9|   null| null|1.486448393E9|\n|end_Obstructive A...|           0|Sub111_TestCSV020...|   111| 20|        9|   null| null|1.486448404E9|\n+--------------------+------------+--------------------+------+---+---------+-------+-----+-------------+\nonly showing top 20 rows\n\n+--------------------+------------+--------------------+------+----+---------+-------+-----+-------------+\n|         marker_type|marker_index|            filename|userid|  id|marker_id|setting|notes|    timestamp|\n+--------------------+------------+--------------------+------+----+---------+-------+-----+-------------+\n|     start_RERA_data|           0|Sub111_TestCSV020...|   111|null|        0|   null| null|1.486448052E9|\n|       end_RERA_data|           0|Sub111_TestCSV020...|   111|null|        0|   null| null|1.486448077E9|\n|     start_RERA_data|           0|Sub111_TestCSV020...|   111|null|        1|   null| null|1.486448179E9|\n|       end_RERA_data|           0|Sub111_TestCSV020...|   111|null|        1|   null| null|1.486448196E9|\n|     start_RERA_data|           0|Sub111_TestCSV020...|   111|null|        2|   null| null|1.486448248E9|\n|       end_RERA_data|           0|Sub111_TestCSV020...|   111|null|        2|   null| null|1.486448266E9|\n|     start_RERA_data|           0|Sub111_TestCSV020...|   111|null|        3|   null| null|1.486448289E9|\n|       end_RERA_data|           0|Sub111_TestCSV020...|   111|null|        3|   null| null| 1.48644831E9|\n|start_Obstructive...|           0|Sub111_TestCSV020...|   111|null|        4|   null| null|1.486448331E9|\n|end_ObstructiveAp...|           0|Sub111_TestCSV020...|   111|null|        4|   null| null|1.486448342E9|\n| start_Hypopnea_data|           0|Sub111_TestCSV020...|   111|null|        5|   null| null|1.486448356E9|\n|   end_Hypopnea_data|           0|Sub111_TestCSV020...|   111|null|        5|   null| null|1.486448379E9|\n|start_Obstructive...|           0|Sub111_TestCSV020...|   111|null|        6|   null| null|1.486448393E9|\n|end_ObstructiveAp...|           0|Sub111_TestCSV020...|   111|null|        6|   null| null|1.486448404E9|\n|start_Obstructive...|           0|Sub111_TestCSV020...|   111|null|        7|   null| null|1.486448418E9|\n|end_ObstructiveAp...|           0|Sub111_TestCSV020...|   111|null|        7|   null| null|1.486448429E9|\n|start_Obstructive...|           0|Sub111_TestCSV020...|   111|null|        8|   null| null|1.486448438E9|\n|end_ObstructiveAp...|           0|Sub111_TestCSV020...|   111|null|        8|   null| null|1.486448453E9|\n|start_Obstructive...|           0|Sub111_TestCSV020...|   111|null|        9|   null| null|1.486448465E9|\n|end_ObstructiveAp...|           0|Sub111_TestCSV020...|   111|null|        9|   null| null|1.486448476E9|\n+--------------------+------------+--------------------+------+----+---------+-------+-----+-------------+\nonly showing top 20 rows\n\n"
     ]
    }
   ],
   "source": [
    "from pyspark.sql import SQLContext, Row\n",
    "url = \"jdbc:mysql://127.0.0.1:3306/botkit\"\n",
    "sqlContext = SQLContext(sc)\n",
    "df_an = (sqlContext.read.format('jdbc')\n",
    "         .options(url='jdbc:mysql://127.0.0.1:3306/striiv',\n",
    "                  user='knowieadmin',\n",
    "                  password='kn0wie?12!',\n",
    "                  dbtable='annotation',\n",
    "                  driver='com.mysql.jdbc.Driver')\n",
    "         .load()\n",
    "         )\n",
    "df_an.show()\n",
    "\n",
    "df_ae = (sqlContext.read.format('jdbc')\n",
    "         .options(url='jdbc:mysql://127.0.0.1:3306/striiv',\n",
    "                  user='knowieadmin',\n",
    "                  password='kn0wie?12!',\n",
    "                  dbtable='annotation_event',\n",
    "                  driver='com.mysql.jdbc.Driver')\n",
    "         .load()\n",
    "         )\n",
    "\n",
    "df_ae.show()"
   ]
  },
  {
   "cell_type": "code",
   "execution_count": 5,
   "metadata": {
    "collapsed": false
   },
   "outputs": [
    {
     "data": {
      "text/plain": [
       "[('dispatching_base_number', 'string'),\n ('date', 'string'),\n ('active_vehicles', 'int'),\n ('trips', 'int')]"
      ]
     },
     "execution_count": 5,
     "metadata": {},
     "output_type": "execute_result"
    }
   ],
   "source": [
    "df_uber = sqlContext.read.load('file:///Users/Tran/git/_learning/learning_spark/data/uber.csv', \n",
    "                               format='com.databricks.spark.csv', header='true', inferSchema='true')\n",
    "df_uber.dtypes"
   ]
  },
  {
   "cell_type": "code",
   "execution_count": 7,
   "metadata": {
    "collapsed": false
   },
   "outputs": [
    {
     "name": "stdout",
     "output_type": "stream",
     "text": [
      "+-------+-----------------------+--------+------------------+------------------+\n|summary|dispatching_base_number|    date|   active_vehicles|             trips|\n+-------+-----------------------+--------+------------------+------------------+\n|  count|                    354|     354|               354|               354|\n|   mean|                   null|    null|1307.4350282485875|11667.316384180791|\n| stddev|                   null|    null|1162.5106256246545|10648.284864561118|\n|    min|                 B02512|1/1/2015|               112|               629|\n|    max|                 B02765|2/9/2015|              4395|             45858|\n+-------+-----------------------+--------+------------------+------------------+\n\n"
     ]
    }
   ],
   "source": [
    "df_uber.describe().show()"
   ]
  },
  {
   "cell_type": "code",
   "execution_count": 8,
   "metadata": {
    "collapsed": false
   },
   "outputs": [
    {
     "name": "stdout",
     "output_type": "stream",
     "text": [
      "+-----------------------+--------+---------------+-----+\n|dispatching_base_number|    date|active_vehicles|trips|\n+-----------------------+--------+---------------+-----+\n|                 B02764|1/1/2015|           3427|29421|\n|                 B02682|1/1/2015|            945| 7679|\n|                 B02617|1/1/2015|           1228| 9537|\n|                 B02598|1/1/2015|            870| 6903|\n|                 B02598|1/2/2015|            785| 4768|\n|                 B02617|1/2/2015|           1137| 7065|\n|                 B02682|1/2/2015|            890| 5506|\n|                 B02764|1/2/2015|           3147|19974|\n|                 B02617|1/3/2015|           1188|10664|\n|                 B02598|1/3/2015|            818| 7432|\n|                 B02682|1/3/2015|            915| 8010|\n|                 B02764|1/3/2015|           3215|29729|\n|                 B02682|1/4/2015|            812| 5621|\n|                 B02598|1/4/2015|            746| 5223|\n|                 B02617|1/4/2015|           1088| 7729|\n|                 B02764|1/4/2015|           2862|20441|\n|                 B02682|1/5/2015|            951| 6012|\n|                 B02617|1/5/2015|           1218| 7899|\n|                 B02764|1/5/2015|           3387|20926|\n|                 B02598|1/5/2015|            907| 5798|\n+-----------------------+--------+---------------+-----+\nonly showing top 20 rows\n\n"
     ]
    }
   ],
   "source": [
    "df_uber.filter(df_uber.trips > 2000).show()"
   ]
  },
  {
   "cell_type": "code",
   "execution_count": 9,
   "metadata": {
    "collapsed": false
   },
   "outputs": [
    {
     "name": "stdout",
     "output_type": "stream",
     "text": [
      "+-----------------------+---------+---------------+-----+\n|dispatching_base_number|     date|active_vehicles|trips|\n+-----------------------+---------+---------------+-----+\n|                 B02764| 1/4/2015|           2862|20441|\n|                 B02764| 1/5/2015|           3387|20926|\n|                 B02764|1/19/2015|           2958|22750|\n+-----------------------+---------+---------------+-----+\n\n"
     ]
    }
   ],
   "source": [
    "df_uber.filter((df_uber[3] > 20000) & (df_uber[3] < 25000)).show()"
   ]
  },
  {
   "cell_type": "code",
   "execution_count": 10,
   "metadata": {
    "collapsed": false
   },
   "outputs": [
    {
     "ename": "TypeError",
     "evalue": "Column is not iterable",
     "traceback": [
      "\u001b[0;31m\u001b[0m",
      "\u001b[0;31mTypeError\u001b[0mTraceback (most recent call last)",
      "\u001b[0;32m<ipython-input-10-ec67d503f09a>\u001b[0m in \u001b[0;36m<module>\u001b[0;34m()\u001b[0m\n\u001b[0;32m----> 1\u001b[0;31m \u001b[0mdf_uber\u001b[0m\u001b[1;33m.\u001b[0m\u001b[0mselect\u001b[0m\u001b[1;33m(\u001b[0m\u001b[0mmax\u001b[0m\u001b[1;33m(\u001b[0m\u001b[0mdf_uber\u001b[0m\u001b[1;33m[\u001b[0m\u001b[1;36m3\u001b[0m\u001b[1;33m]\u001b[0m\u001b[1;33m)\u001b[0m\u001b[1;33m)\u001b[0m\u001b[1;33m.\u001b[0m\u001b[0mshow\u001b[0m\u001b[1;33m(\u001b[0m\u001b[1;33m)\u001b[0m\u001b[1;33m\u001b[0m\u001b[0m\n\u001b[0m\u001b[1;32m      2\u001b[0m \u001b[0mdf_uber\u001b[0m\u001b[1;33m.\u001b[0m\u001b[0mselect\u001b[0m\u001b[1;33m(\u001b[0m\u001b[0mdf_uber\u001b[0m\u001b[1;33m[\u001b[0m\u001b[1;36m1\u001b[0m\u001b[1;33m]\u001b[0m\u001b[1;33m,\u001b[0m \u001b[0mdf_uber\u001b[0m\u001b[1;33m[\u001b[0m\u001b[1;36m2\u001b[0m\u001b[1;33m]\u001b[0m\u001b[1;33m)\u001b[0m\u001b[1;33m.\u001b[0m\u001b[0mshow\u001b[0m\u001b[1;33m(\u001b[0m\u001b[1;33m)\u001b[0m\u001b[1;33m\u001b[0m\u001b[0m\n",
      "\u001b[0;32mC:\\MyProgz\\spark-2.2.0-bin-hadoop2.7\\python\\pyspark\\sql\\column.pyc\u001b[0m in \u001b[0;36m__iter__\u001b[0;34m(self)\u001b[0m\n\u001b[1;32m    248\u001b[0m \u001b[1;33m\u001b[0m\u001b[0m\n\u001b[1;32m    249\u001b[0m     \u001b[1;32mdef\u001b[0m \u001b[0m__iter__\u001b[0m\u001b[1;33m(\u001b[0m\u001b[0mself\u001b[0m\u001b[1;33m)\u001b[0m\u001b[1;33m:\u001b[0m\u001b[1;33m\u001b[0m\u001b[0m\n\u001b[0;32m--> 250\u001b[0;31m         \u001b[1;32mraise\u001b[0m \u001b[0mTypeError\u001b[0m\u001b[1;33m(\u001b[0m\u001b[1;34m\"Column is not iterable\"\u001b[0m\u001b[1;33m)\u001b[0m\u001b[1;33m\u001b[0m\u001b[0m\n\u001b[0m\u001b[1;32m    251\u001b[0m \u001b[1;33m\u001b[0m\u001b[0m\n\u001b[1;32m    252\u001b[0m     \u001b[1;31m# string methods\u001b[0m\u001b[1;33m\u001b[0m\u001b[1;33m\u001b[0m\u001b[0m\n",
      "\u001b[0;31mTypeError\u001b[0m: Column is not iterable"
     ],
     "output_type": "error"
    }
   ],
   "source": [
    "df_uber.select(max(df_uber[3])).show()\n",
    "df_uber.select(df_uber[1], df_uber[2]).show()"
   ]
  },
  {
   "cell_type": "code",
   "execution_count": 12,
   "metadata": {
    "collapsed": false
   },
   "outputs": [
    {
     "name": "stdout",
     "output_type": "stream",
     "text": [
      "+---------+-----+\n|     date|count|\n+---------+-----+\n|2/27/2015|    6|\n|1/15/2015|    6|\n| 1/9/2015|    6|\n| 1/2/2015|    6|\n|2/25/2015|    6|\n|2/13/2015|    6|\n| 1/5/2015|    6|\n|1/20/2015|    6|\n| 2/5/2015|    6|\n|1/25/2015|    6|\n|1/31/2015|    6|\n|1/30/2015|    6|\n|2/21/2015|    6|\n| 2/9/2015|    6|\n|2/22/2015|    6|\n|1/14/2015|    6|\n|1/13/2015|    6|\n|2/28/2015|    6|\n|2/19/2015|    6|\n| 2/3/2015|    6|\n+---------+-----+\nonly showing top 20 rows\n\n"
     ]
    }
   ],
   "source": [
    "df_uber.groupby(df_uber['date']).count().show()"
   ]
  },
  {
   "cell_type": "code",
   "execution_count": 13,
   "metadata": {
    "collapsed": false
   },
   "outputs": [
    {
     "name": "stdout",
     "output_type": "stream",
     "text": [
      "+-----------------------+--------+---------------+-----+\n|dispatching_base_number|    date|active_vehicles|trips|\n+-----------------------+--------+---------------+-----+\n|                 B02512|1/1/2015|            190| 1132|\n|                 B02765|1/1/2015|            225| 1765|\n|                 B02764|1/1/2015|           3427|29421|\n|                 B02682|1/1/2015|            945| 7679|\n|                 B02617|1/1/2015|           1228| 9537|\n|                 B02598|1/1/2015|            870| 6903|\n|                 B02598|1/2/2015|            785| 4768|\n|                 B02617|1/2/2015|           1137| 7065|\n|                 B02512|1/2/2015|            175|  875|\n|                 B02682|1/2/2015|            890| 5506|\n|                 B02765|1/2/2015|            196| 1001|\n|                 B02764|1/2/2015|           3147|19974|\n|                 B02765|1/3/2015|            201| 1526|\n|                 B02617|1/3/2015|           1188|10664|\n|                 B02598|1/3/2015|            818| 7432|\n|                 B02682|1/3/2015|            915| 8010|\n|                 B02512|1/3/2015|            173| 1088|\n|                 B02764|1/3/2015|           3215|29729|\n|                 B02512|1/4/2015|            147|  791|\n|                 B02682|1/4/2015|            812| 5621|\n+-----------------------+--------+---------------+-----+\nonly showing top 20 rows\n\n"
     ]
    }
   ],
   "source": [
    "df_uber.registerTempTable('uber')\n",
    "sqlContext.sql(\"Select * from uber\").show()"
   ]
  },
  {
   "cell_type": "code",
   "execution_count": 14,
   "metadata": {},
   "outputs": [],
   "source": [
    ""
   ]
  },
  {
   "cell_type": "code",
   "execution_count": null,
   "metadata": {},
   "outputs": [],
   "source": [
    ""
   ]
  }
 ],
 "metadata": {
  "anaconda-cloud": {},
  "kernelspec": {
   "display_name": "Python [default]",
   "language": "python",
   "name": "python2"
  },
  "language_info": {
   "codemirror_mode": {
    "name": "ipython",
    "version": 2
   },
   "file_extension": ".py",
   "mimetype": "text/x-python",
   "name": "python",
   "nbconvert_exporter": "python",
   "pygments_lexer": "ipython2",
   "version": "2.7.12"
  }
 },
 "nbformat": 4,
 "nbformat_minor": 0
}
